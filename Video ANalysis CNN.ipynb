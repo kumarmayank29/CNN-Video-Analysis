{
 "cells": [
  {
   "cell_type": "markdown",
   "metadata": {},
   "source": [
    "### Import Necessary Libraries"
   ]
  },
  {
   "cell_type": "code",
   "execution_count": 1,
   "metadata": {},
   "outputs": [],
   "source": [
    "import cv2 #Importing opencv library so that I can open camera and take video\n",
    "import numpy as np #To convert image to array and to expand dimensions\n",
    "from keras.models import load_model #To load the saved model\n",
    "from keras.preprocessing import image # To preprocess the image"
   ]
  },
  {
   "cell_type": "markdown",
   "metadata": {},
   "source": [
    "### Load the model"
   ]
  },
  {
   "cell_type": "code",
   "execution_count": 2,
   "metadata": {},
   "outputs": [],
   "source": [
    "model=load_model('animal.h5') #We are loading the saved model\n",
    "video=cv2.VideoCapture(0) #When using Laptop camera cv2.VideoCapture(0) has value of 0 /For USB camera put 1\n",
    "#Whenever we start video capture it send two parameters (a) bool 0(Frames are still coming) or bool 1(the Frames are ended) (b) Frame as we know video is nothing but a combination of frames\n",
    "index=['bear','crow','elephant','racoon','rat']"
   ]
  },
  {
   "cell_type": "markdown",
   "metadata": {},
   "source": [
    "### Lets See"
   ]
  },
  {
   "cell_type": "code",
   "execution_count": 3,
   "metadata": {},
   "outputs": [
    {
     "name": "stderr",
     "output_type": "stream",
     "text": [
      "C:\\Users\\KIIT\\Anaconda3\\lib\\site-packages\\tensorflow\\python\\keras\\engine\\sequential.py:450: UserWarning: `model.predict_classes()` is deprecated and will be removed after 2021-01-01. Please use instead:* `np.argmax(model.predict(x), axis=-1)`,   if your model does multi-class classification   (e.g. if it uses a `softmax` last-layer activation).* `(model.predict(x) > 0.5).astype(\"int32\")`,   if your model does binary classification   (e.g. if it uses a `sigmoid` last-layer activation).\n",
      "  warnings.warn('`model.predict_classes()` is deprecated and '\n"
     ]
    }
   ],
   "source": [
    "while(1):\n",
    "    success,frame=video.read()#Reading the frame.Frame is nothing but frame of video\n",
    "    cv2.imwrite(\"image.jpg\",frame)#Save image by name of image.jpg\n",
    "    img=image.load_img(\"image.jpg\",target_size=(64,64))#Laoding the image with help of image.load_img,target size (64,64)as defined earlier during trainng \n",
    "    x=image.img_to_array(img) #Converting image to array.Once converting to array CNN wont take 3 dimensions it will take 4 dimensions so thats reason we are expanding 3 dim to 4 dim using expand\n",
    "    x=np.expand_dims(x,axis=0)\n",
    "    pred=model.predict_classes(x)#Give the x for prediction to the model\n",
    "    p=pred[0] #We are getting the classes in the form of either 0,1,2,3,4\n",
    "    \n",
    "    cv2.putText(frame,\"Predicted animal is\"+str(index[p]),(100,100),cv2.FONT_HERSHEY_SIMPLEX,1,(0,0,0),4)\n",
    "    #What we see ie the window is called a frame\n",
    "    #We are trying to write some text on the frame \n",
    "    #(100,100) is position of text on Frame\n",
    "    #cv2.FONT_HERSHEY_SIMPLEX is just font style\n",
    "    #(255,255,255) color of text (0,0,0) will be black text\n",
    "    #Last 1 indicates boldness of text 1 less bold 4 more bold\n",
    "    cv2.imshow(\"image\",frame) #Here \"image\" is name of window which pops we can write anything at that place its just the title of window\n",
    "    if cv2.waitKey(1) & 0xFF == ord('a'):  #To escape from window click a or escape\n",
    "        break;\n",
    "video.release() #video released\n",
    "cv2.destroyAllWindows() #Close all windows\n",
    "        \n",
    "        "
   ]
  },
  {
   "cell_type": "code",
   "execution_count": null,
   "metadata": {},
   "outputs": [],
   "source": []
  }
 ],
 "metadata": {
  "kernelspec": {
   "display_name": "Python 3",
   "language": "python",
   "name": "python3"
  },
  "language_info": {
   "codemirror_mode": {
    "name": "ipython",
    "version": 3
   },
   "file_extension": ".py",
   "mimetype": "text/x-python",
   "name": "python",
   "nbconvert_exporter": "python",
   "pygments_lexer": "ipython3",
   "version": "3.7.3"
  }
 },
 "nbformat": 4,
 "nbformat_minor": 2
}
